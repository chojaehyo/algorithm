{
 "cells": [
  {
   "cell_type": "markdown",
   "metadata": {},
   "source": [
    "# 삽입 정렬 구현하기"
   ]
  },
  {
   "cell_type": "code",
   "execution_count": 2,
   "metadata": {},
   "outputs": [],
   "source": [
    "def insertion_sort(data):\n",
    "    for index in range(len(data)-1):\n",
    "        for index2 in range(index+1, 0, -1):\n",
    "            if data[index2] < data[index2-1]:\n",
    "                data[index2], data[index2-1] = data[index2-1], data[index2]\n",
    "            else:\n",
    "                break\n",
    "    return data"
   ]
  },
  {
   "cell_type": "code",
   "execution_count": 4,
   "metadata": {},
   "outputs": [
    {
     "name": "stdout",
     "output_type": "stream",
     "text": [
      "[73, 30, 41, 33, 51, 77, 63, 56, 34, 26, 93, 97, 3, 18, 9, 98, 79, 29, 75, 4, 91, 85, 99, 36, 82, 80, 0, 6, 10, 50, 44, 43, 13, 27, 59, 19, 48, 46, 72, 86, 66, 71, 2, 31, 55, 16, 64, 11, 67, 89]\n",
      "[0, 2, 3, 4, 6, 9, 10, 11, 13, 16, 18, 19, 26, 27, 29, 30, 31, 33, 34, 36, 41, 43, 44, 46, 48, 50, 51, 55, 56, 59, 63, 64, 66, 67, 71, 72, 73, 75, 77, 79, 80, 82, 85, 86, 89, 91, 93, 97, 98, 99]\n"
     ]
    }
   ],
   "source": [
    "import random\n",
    "\n",
    "data_list = random.sample(range(100), 50)\n",
    "print(data_list)\n",
    "print(insertion_sort(data_list))"
   ]
  }
 ],
 "metadata": {
  "kernelspec": {
   "display_name": "Python 3",
   "language": "python",
   "name": "python3"
  },
  "language_info": {
   "codemirror_mode": {
    "name": "ipython",
    "version": 3
   },
   "file_extension": ".py",
   "mimetype": "text/x-python",
   "name": "python",
   "nbconvert_exporter": "python",
   "pygments_lexer": "ipython3",
   "version": "3.7.1"
  }
 },
 "nbformat": 4,
 "nbformat_minor": 2
}
