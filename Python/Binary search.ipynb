{
 "cells": [
  {
   "cell_type": "markdown",
   "metadata": {},
   "source": [
    "# 이진 탐색 구현하기"
   ]
  },
  {
   "cell_type": "code",
   "execution_count": 15,
   "metadata": {},
   "outputs": [],
   "source": [
    "def binary_search(data, search_data):\n",
    "    print(data)\n",
    "    if len(data) == 1 and data[0] == search_data:\n",
    "        return True\n",
    "    if len(data) == 1 and data[0] != search_data:\n",
    "        return False\n",
    "    if len(data) == 0:\n",
    "        return False\n",
    "    \n",
    "    medium = len(data)//2\n",
    "    if search_data == data[medium]:\n",
    "        return True\n",
    "    else:\n",
    "        if search_data > data[medium]:\n",
    "            return binary_search(data[medium+1:], search_data)\n",
    "        else: \n",
    "            return binary_search(data[:medium], search_data)"
   ]
  },
  {
   "cell_type": "code",
   "execution_count": 16,
   "metadata": {},
   "outputs": [
    {
     "data": {
      "text/plain": [
       "[25, 38, 59, 88, 51, 97, 90, 47, 79, 1, 83, 62, 99, 20, 98, 24, 28, 46, 68, 78]"
      ]
     },
     "execution_count": 16,
     "metadata": {},
     "output_type": "execute_result"
    }
   ],
   "source": [
    "import random\n",
    "\n",
    "data_list = random.sample(range(100), 20)\n",
    "data_list"
   ]
  },
  {
   "cell_type": "code",
   "execution_count": 17,
   "metadata": {},
   "outputs": [
    {
     "data": {
      "text/plain": [
       "[1, 20, 24, 25, 28, 38, 46, 47, 51, 59, 62, 68, 78, 79, 83, 88, 90, 97, 98, 99]"
      ]
     },
     "execution_count": 17,
     "metadata": {},
     "output_type": "execute_result"
    }
   ],
   "source": [
    "data_list.sort()\n",
    "data_list"
   ]
  },
  {
   "cell_type": "code",
   "execution_count": 19,
   "metadata": {},
   "outputs": [
    {
     "name": "stdout",
     "output_type": "stream",
     "text": [
      "[1, 20, 24, 25, 28, 38, 46, 47, 51, 59, 62, 68, 78, 79, 83, 88, 90, 97, 98, 99]\n",
      "[1, 20, 24, 25, 28, 38, 46, 47, 51, 59]\n",
      "[1, 20, 24, 25, 28]\n",
      "[25, 28]\n"
     ]
    },
    {
     "data": {
      "text/plain": [
       "True"
      ]
     },
     "execution_count": 19,
     "metadata": {},
     "output_type": "execute_result"
    }
   ],
   "source": [
    "binary_search(data_list, 28)"
   ]
  }
 ],
 "metadata": {
  "kernelspec": {
   "display_name": "Python 3",
   "language": "python",
   "name": "python3"
  },
  "language_info": {
   "codemirror_mode": {
    "name": "ipython",
    "version": 3
   },
   "file_extension": ".py",
   "mimetype": "text/x-python",
   "name": "python",
   "nbconvert_exporter": "python",
   "pygments_lexer": "ipython3",
   "version": "3.7.1"
  }
 },
 "nbformat": 4,
 "nbformat_minor": 2
}
