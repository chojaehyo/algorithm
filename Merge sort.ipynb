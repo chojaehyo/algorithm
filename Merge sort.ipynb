{
 "cells": [
  {
   "cell_type": "markdown",
   "metadata": {},
   "source": [
    "# 병합 정렬 구현하기"
   ]
  },
  {
   "cell_type": "code",
   "execution_count": 8,
   "metadata": {},
   "outputs": [],
   "source": [
    "def merge(left, right):\n",
    "    merged = list()\n",
    "    left_idx, right_idx = 0, 0\n",
    "    \n",
    "    #case1: left/right 둘 다 있을 때\n",
    "    while len(left) > left_idx and len(right) > right_idx:\n",
    "        if left[left_idx] > right[right_idx]:\n",
    "            merged.append(right[right_idx])\n",
    "            right_idx += 1\n",
    "        else:\n",
    "            merged.append(left[left_idx])\n",
    "            left_idx += 1\n",
    "            \n",
    "    #case2: left만 남아있을 때\n",
    "    while len(left) > left_idx:\n",
    "        merged.append(left[left_idx])\n",
    "        left_idx += 1\n",
    "    \n",
    "    #case3: right만 남아있을 때\n",
    "    while len(right) > right_idx:\n",
    "        merged.append(right[right_idx])\n",
    "        right_idx +=1\n",
    "    return merged\n",
    "\n",
    "def mergesplit(data):\n",
    "    if len(data) <= 1:\n",
    "        return data\n",
    "    medium = int(len(data)/2)\n",
    "    left = mergesplit(data[:medium])\n",
    "    right = mergesplit(data[medium:])\n",
    "    return merge(left, right)"
   ]
  },
  {
   "cell_type": "code",
   "execution_count": 9,
   "metadata": {},
   "outputs": [
    {
     "name": "stdout",
     "output_type": "stream",
     "text": [
      "[39, 10, 58, 85, 55, 47, 9, 78, 49, 12]\n"
     ]
    },
    {
     "data": {
      "text/plain": [
       "[9, 10, 12, 39, 47, 49, 55, 58, 78, 85]"
      ]
     },
     "execution_count": 9,
     "metadata": {},
     "output_type": "execute_result"
    }
   ],
   "source": [
    "import random\n",
    "\n",
    "data_list = random.sample(range(100), 10)\n",
    "print(data_list)\n",
    "mergesplit(data_list)"
   ]
  }
 ],
 "metadata": {
  "kernelspec": {
   "display_name": "Python 3",
   "language": "python",
   "name": "python3"
  },
  "language_info": {
   "codemirror_mode": {
    "name": "ipython",
    "version": 3
   },
   "file_extension": ".py",
   "mimetype": "text/x-python",
   "name": "python",
   "nbconvert_exporter": "python",
   "pygments_lexer": "ipython3",
   "version": "3.7.1"
  }
 },
 "nbformat": 4,
 "nbformat_minor": 2
}
